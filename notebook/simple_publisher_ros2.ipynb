{
 "cells": [
  {
   "cell_type": "code",
   "execution_count": null,
   "id": "ccad350e",
   "metadata": {},
   "outputs": [],
   "source": [
    "import sys\n",
    "import rclpy\n",
    "from rclpy.node import Node\n",
    "from std_msgs.msg import String"
   ]
  },
  {
   "cell_type": "code",
   "execution_count": null,
   "id": "f54e12e9",
   "metadata": {},
   "outputs": [],
   "source": [
    "rclpy.init(args=sys.argv)"
   ]
  },
  {
   "cell_type": "code",
   "execution_count": null,
   "id": "24a8e0b3",
   "metadata": {},
   "outputs": [],
   "source": [
    "node = rclpy.create_node('talker')"
   ]
  },
  {
   "cell_type": "code",
   "execution_count": null,
   "id": "9f7c2988",
   "metadata": {},
   "outputs": [],
   "source": [
    "pub = node.create_publisher(String, 'chatter', 10)\n",
    "x = 1"
   ]
  },
  {
   "cell_type": "code",
   "execution_count": null,
   "id": "01cab522",
   "metadata": {},
   "outputs": [],
   "source": [
    "def timer_callback():\n",
    "    global x\n",
    "    msg = String()\n",
    "    msg.data = 'Hello World: %d'%x\n",
    "    pub.publish(msg)\n",
    "    x += 1"
   ]
  },
  {
   "cell_type": "code",
   "execution_count": null,
   "id": "827429cc",
   "metadata": {},
   "outputs": [],
   "source": [
    "timer = node.create_timer(0.5, timer_callback)"
   ]
  },
  {
   "cell_type": "code",
   "execution_count": null,
   "id": "4be9ca41",
   "metadata": {
    "scrolled": true
   },
   "outputs": [],
   "source": [
    "rclpy.spin(node)"
   ]
  },
  {
   "cell_type": "code",
   "execution_count": null,
   "id": "fc3c3ee5",
   "metadata": {},
   "outputs": [],
   "source": []
  }
 ],
 "metadata": {
  "kernelspec": {
   "display_name": "Python 3 (ipykernel)",
   "language": "python",
   "name": "python3"
  },
  "language_info": {
   "codemirror_mode": {
    "name": "ipython",
    "version": 3
   },
   "file_extension": ".py",
   "mimetype": "text/x-python",
   "name": "python",
   "nbconvert_exporter": "python",
   "pygments_lexer": "ipython3",
   "version": "3.8.10"
  }
 },
 "nbformat": 4,
 "nbformat_minor": 5
}
