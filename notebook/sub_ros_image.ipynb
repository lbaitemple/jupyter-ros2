{
 "cells": [
  {
   "cell_type": "code",
   "execution_count": 1,
   "id": "6f70121d-45bb-43d1-aa42-a70751197672",
   "metadata": {},
   "outputs": [],
   "source": [
    "import rclpy\n",
    "import sys\n",
    "from rclpy.node import Node\n",
    "from sensor_msgs.msg import Image\n",
    "import numpy as np\n",
    "import cv2\n",
    "from cv_bridge import CvBridge"
   ]
  },
  {
   "cell_type": "code",
   "execution_count": 2,
   "id": "032233d5-072f-4e85-bbe8-e3e065f5c7b2",
   "metadata": {},
   "outputs": [],
   "source": [
    "import matplotlib.pyplot as plt\n",
    "from matplotlib.backends.backend_agg import FigureCanvasAgg as FigureCanvas\n",
    "from IPython.display import display, clear_output\n",
    "import ipywidgets as widgets\n",
    "import threading"
   ]
  },
  {
   "cell_type": "code",
   "execution_count": 3,
   "id": "50594edc-43e7-4f91-ad31-60ca3cdd2f98",
   "metadata": {},
   "outputs": [
    {
     "data": {
      "text/plain": [
       "Text(0.5, 1.0, 'USB CAM Image')"
      ]
     },
     "execution_count": 3,
     "metadata": {},
     "output_type": "execute_result"
    },
    {
     "data": {
      "image/png": "[encoded data removed]",
      "text/plain": [
       "<Figure size 640x480 with 1 Axes>"
      ]
     },
     "metadata": {},
     "output_type": "display_data"
    }
   ],
   "source": [
    "bridge = CvBridge() \n",
    "fig, ax = plt.subplots()\n",
    "empty_image = np.zeros((200, 300, 3), dtype=np.uint8)\n",
    "img_obj = ax.imshow(empty_image)\n",
    "ax.set_title('USB CAM Image')"
   ]
  },
  {
   "cell_type": "code",
   "execution_count": 4,
   "id": "d36e8d8f-e505-43e5-8189-0cf2a1f50722",
   "metadata": {},
   "outputs": [],
   "source": [
    "def callback_image(topic):\n",
    "    image = bridge.imgmsg_to_cv2(topic, 'rgb8')\n",
    "    img_obj.set_data(image)\n",
    "    clear_output(wait=True)\n",
    "    display(fig)"
   ]
  },
  {
   "cell_type": "code",
   "execution_count": 5,
   "id": "2826f7f8-10b2-408b-a820-17dab40f11d6",
   "metadata": {},
   "outputs": [],
   "source": [
    "rclpy.init(args=sys.argv)\n",
    "node = rclpy.create_node('sub_image')"
   ]
  },
  {
   "cell_type": "code",
   "execution_count": 6,
   "id": "24a9b8a7-4bdc-400e-bd47-dd95044101b0",
   "metadata": {},
   "outputs": [],
   "source": [
    "sub = node.create_subscription(Image, '/image_raw', callback_image, 10)"
   ]
  },
  {
   "cell_type": "code",
   "execution_count": null,
   "id": "818f01fe-295b-46b3-93b1-f58f312fdff3",
   "metadata": {},
   "outputs": [],
   "source": [
    "rclpy.spin(node)"
   ]
  },
  {
   "cell_type": "code",
   "execution_count": null,
   "id": "80f16e72-8d89-4b94-9cd3-86c2b8c67b1f",
   "metadata": {},
   "outputs": [],
   "source": []
  }
 ],
 "metadata": {
  "kernelspec": {
   "display_name": "Python 3 (ipykernel)",
   "language": "python",
   "name": "python3"
  },
  "language_info": {
   "codemirror_mode": {
    "name": "ipython",
    "version": 3
   },
   "file_extension": ".py",
   "mimetype": "text/x-python",
   "name": "python",
   "nbconvert_exporter": "python",
   "pygments_lexer": "ipython3",
   "version": "3.8.10"
  }
 },
 "nbformat": 4,
 "nbformat_minor": 5
}
