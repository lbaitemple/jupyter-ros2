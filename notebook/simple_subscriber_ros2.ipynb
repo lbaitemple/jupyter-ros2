{
 "cells": [
  {
   "cell_type": "code",
   "execution_count": 1,
   "id": "42686f4d",
   "metadata": {},
   "outputs": [],
   "source": [
    "import sys\n",
    "import rclpy\n",
    "from rclpy.node import Node\n",
    "from std_msgs.msg import String"
   ]
  },
  {
   "cell_type": "code",
   "execution_count": 2,
   "id": "da6d98a1",
   "metadata": {},
   "outputs": [],
   "source": [
    "def callback(msg):\n",
    "    node.get_logger().info('I heard:{0}'.format(msg.data))"
   ]
  },
  {
   "cell_type": "code",
   "execution_count": 3,
   "id": "0a2f2f18",
   "metadata": {},
   "outputs": [],
   "source": [
    "rclpy.init(args=sys.argv)"
   ]
  },
  {
   "cell_type": "code",
   "execution_count": 4,
   "id": "062046a4",
   "metadata": {},
   "outputs": [],
   "source": [
    "node = rclpy.create_node('listener')"
   ]
  },
  {
   "cell_type": "code",
   "execution_count": 5,
   "id": "7903c0e6",
   "metadata": {},
   "outputs": [],
   "source": [
    "sub = node.create_subscription(String,'chatter',callback, 10)"
   ]
  },
  {
   "cell_type": "code",
   "execution_count": null,
   "id": "b62cf9e9",
   "metadata": {},
   "outputs": [],
   "source": [
    "rclpy.spin(node)"
   ]
  },
  {
   "cell_type": "code",
   "execution_count": null,
   "id": "1775f282",
   "metadata": {},
   "outputs": [],
   "source": [
    "rclpy.shutdown()"
   ]
  },
  {
   "cell_type": "code",
   "execution_count": null,
   "id": "d9ad0479",
   "metadata": {},
   "outputs": [],
   "source": []
  }
 ],
 "metadata": {
  "kernelspec": {
   "display_name": "Python 3 (ipykernel)",
   "language": "python",
   "name": "python3"
  },
  "language_info": {
   "codemirror_mode": {
    "name": "ipython",
    "version": 3
   },
   "file_extension": ".py",
   "mimetype": "text/x-python",
   "name": "python",
   "nbconvert_exporter": "python",
   "pygments_lexer": "ipython3",
   "version": "3.8.10"
  }
 },
 "nbformat": 4,
 "nbformat_minor": 5
}
